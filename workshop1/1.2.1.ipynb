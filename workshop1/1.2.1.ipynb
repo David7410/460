{
 "cells": [
  {
   "cell_type": "code",
   "execution_count": 1,
   "metadata": {},
   "outputs": [
    {
     "name": "stdout",
     "output_type": "stream",
     "text": [
      "Populating the interactive namespace from numpy and matplotlib\n"
     ]
    }
   ],
   "source": [
    "%pylab inline"
   ]
  },
  {
   "cell_type": "code",
   "execution_count": 2,
   "metadata": {},
   "outputs": [],
   "source": [
    "import math"
   ]
  },
  {
   "cell_type": "code",
   "execution_count": 3,
   "metadata": {},
   "outputs": [],
   "source": [
    "# Perfect sensor\n",
    "def sense(x):\n",
    "    return x"
   ]
  },
  {
   "cell_type": "code",
   "execution_count": 4,
   "metadata": {},
   "outputs": [],
   "source": [
    "def simulate(Δt, x, u):\n",
    "    x += Δt * u\n",
    "    return x"
   ]
  },
  {
   "cell_type": "code",
   "execution_count": 5,
   "metadata": {},
   "outputs": [],
   "source": [
    "def control(t, y):\n",
    "    ### WRITE YOUR CONTROL POLICY HERE:\n",
    "    ux = -2*sin(t)\n",
    "    uy = cos(t)\n",
    "    ux1 = math.sqrt(3)*ux-0.5*uy\n",
    "    uy1 = 0.5*ux+math.sqrt(3)*uy\n",
    "\n",
    "    return array([ux1, uy1])"
   ]
  },
  {
   "cell_type": "code",
   "execution_count": 10,
   "metadata": {},
   "outputs": [],
   "source": [
    "tf = 10\n",
    "Δt = 0.1    # Time step\n",
    "time = linspace(0.,tf, int(tf / Δt) + 1)  # Time interval\n",
    "\n",
    "\n",
    "# Initial conditions\n",
    "x = array([7., 2.])\n",
    "x_log = [copy(x)]\n",
    "\n",
    "for t in time:\n",
    "    y = sense(x)\n",
    "    u = control(t, y)    \n",
    "    x = simulate(Δt, x, u)\n",
    "    x_log.append(copy(x))\n",
    "    \n",
    "x_log = array(x_log)"
   ]
  },
  {
   "cell_type": "code",
   "execution_count": 11,
   "metadata": {},
   "outputs": [
    {
     "data": {
      "text/plain": [
       "[<matplotlib.lines.Line2D at 0x21531dbc790>]"
      ]
     },
     "execution_count": 11,
     "metadata": {},
     "output_type": "execute_result"
    },
    {
     "data": {
      "image/png": "[encoded data removed]",
      "text/plain": [
       "<Figure size 432x288 with 1 Axes>"
      ]
     },
     "metadata": {
      "needs_background": "light"
     },
     "output_type": "display_data"
    }
   ],
   "source": [
    "grid()\n",
    "plot(x_log[:,0], x_log[:,1])"
   ]
  },
  {
   "cell_type": "code",
   "execution_count": null,
   "metadata": {},
   "outputs": [],
   "source": []
  }
 ],
 "metadata": {
  "kernelspec": {
   "display_name": "Python 3",
   "language": "python",
   "name": "python3"
  },
  "language_info": {
   "codemirror_mode": {
    "name": "ipython",
    "version": 3
   },
   "file_extension": ".py",
   "mimetype": "text/x-python",
   "name": "python",
   "nbconvert_exporter": "python",
   "pygments_lexer": "ipython3",
   "version": "3.8.3"
  }
 },
 "nbformat": 4,
 "nbformat_minor": 4
}
