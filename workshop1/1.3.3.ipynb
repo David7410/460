{
 "cells": [
  {
   "cell_type": "code",
   "execution_count": 12,
   "metadata": {},
   "outputs": [
    {
     "name": "stdout",
     "output_type": "stream",
     "text": [
      "Populating the interactive namespace from numpy and matplotlib\n"
     ]
    }
   ],
   "source": [
    "import sim\n",
    "%pylab inline"
   ]
  },
  {
   "cell_type": "code",
   "execution_count": 13,
   "metadata": {},
   "outputs": [
    {
     "name": "stdout",
     "output_type": "stream",
     "text": [
      "Connected\n",
      "Simulation time in milliseconds:  606356\n",
      "Omnirob is at [x,y,z]= [7.624989986419678, 8.503308296203613, 0.35449913144111633]\n",
      "Disconnected\n"
     ]
    }
   ],
   "source": [
    "sim.simxFinish(-1)  # Close opened connections\n",
    "clientID = sim.simxStart('127.0.0.1', 19999, True, True, 5000, 5)  # Connect to CoppeliaSim\n",
    "\n",
    "if clientID != -1:\n",
    "    print('Connected')\n",
    "\n",
    "    # Now try to retrieve data in a blocking fashion (i.e. a service call):\n",
    "    res, objs = sim.simxGetObjects(clientID, sim.sim_handle_all, sim.simx_opmode_blocking)\n",
    "\n",
    "    print('Simulation time in milliseconds: ', sim.simxGetLastCmdTime(clientID))\n",
    "    \n",
    "    # Get Object position\n",
    "    name = 'Omnirob'\n",
    "    err_code, cuboid = sim.simxGetObjectHandle(clientID, name, sim.simx_opmode_blocking)\n",
    "    res, position = sim.simxGetObjectPosition(clientID, cuboid, -1, sim.simx_opmode_blocking)        \n",
    "    print('Omnirob is at [x,y,z]=', position)\n",
    "    \n",
    "    # Now close the connection to CoppeliaSim:\n",
    "    sim.simxGetPingTime(clientID)\n",
    "    sim.simxFinish(clientID)\n",
    "    print('Disconnected')\n",
    "else:\n",
    "    print('Failed connecting to remote API server')"
   ]
  },
  {
   "cell_type": "code",
   "execution_count": 14,
   "metadata": {},
   "outputs": [],
   "source": [
    "class robot():\n",
    "    \n",
    "    def __init__(self, frame_name, motor_names=[], client_id=0):  \n",
    "        # If there is an existing connection\n",
    "        if client_id:\n",
    "                self.client_id = client_id\n",
    "        else:\n",
    "            self.client_id = self.open_connection()\n",
    "            \n",
    "        self.motors = self._get_handlers(motor_names) \n",
    "        \n",
    "        # Robot frame\n",
    "        self.frame =  self._get_handler(frame_name)\n",
    "            \n",
    "        \n",
    "    def open_connection(self):\n",
    "        sim.simxFinish(-1)  # just in case, close all opened connections\n",
    "        self.client_id = sim.simxStart('127.0.0.1', 19999, True, True, 5000, 5)  # Connect to CoppeliaSim \n",
    "        \n",
    "        if clientID != -1:\n",
    "            print('Robot connected')\n",
    "        else:\n",
    "            print('Connection failed')\n",
    "        return clientID\n",
    "        \n",
    "    def close_connection(self):    \n",
    "        sim.simxGetPingTime(self.client_id)  # Before closing the connection to CoppeliaSim, make sure that the last command sent out had time to arrive.\n",
    "        sim.simxFinish(self.client_id)  # Now close the connection to CoppeliaSim:\n",
    "        print('Connection closed')\n",
    "    \n",
    "    def isConnected(self):\n",
    "        c,result = sim.simxGetPingTime(self.client_id)\n",
    "        # Return true if the robot is connected\n",
    "        return result > 0         \n",
    "        \n",
    "    def _get_handler(self, name):\n",
    "        err_code, handler = sim.simxGetObjectHandle(self.client_id, name, sim.simx_opmode_blocking)\n",
    "        return handler\n",
    "    \n",
    "    def _get_handlers(self, names):\n",
    "        handlers = []\n",
    "        for name in names:\n",
    "            handler = self._get_handler(name)\n",
    "            handlers.append(handler)\n",
    "        \n",
    "        return handlers\n",
    "\n",
    "    def send_motor_velocities(self, vels):\n",
    "        for motor, vel in zip(self.motors, vels):\n",
    "            err_code = sim.simxSetJointTargetVelocity(self.client_id, \n",
    "                                                      motor, vel, sim.simx_opmode_streaming)      \n",
    "            \n",
    "    def set_position(self, position, relative_object=-1):\n",
    "        if relative_object != -1:\n",
    "            relative_object = self._get_handler(relative_object)        \n",
    "        sim.simxSetObjectPosition(clientID, self.frame, relative_object, position, sim.simx_opmode_oneshot)\n",
    "        \n",
    "    def simtime(self):\n",
    "        return sim.simxGetLastCmdTime(self.client_id)\n",
    "    \n",
    "    def get_position(self, relative_object=-1):\n",
    "        # Get position relative to an object, -1 for global frame\n",
    "        if relative_object != -1:\n",
    "            relative_object = self._get_handler(relative_object)\n",
    "        res, position = sim.simxGetObjectPosition(self.client_id, self.frame, relative_object, sim.simx_opmode_blocking)        \n",
    "        return array(position)\n",
    "    \n",
    "    def get_object_position(self, object_name):\n",
    "        # Get Object position in the world frame\n",
    "        err_code, object_h = sim.simxGetObjectHandle(self.client_id, object_name, sim.simx_opmode_blocking)\n",
    "        res, position = sim.simxGetObjectPosition(self.client_id, object_h, -1, sim.simx_opmode_blocking)\n",
    "        return array(position)\n",
    "    \n",
    "    def get_object_relative_position(self, object_name):        \n",
    "        # Get Object position in the robot frame\n",
    "        err_code, object_h = sim.simxGetObjectHandle(self.client_id, object_name, sim.simx_opmode_blocking)\n",
    "        res, position = sim.simxGetObjectPosition(self.client_id, object_h, self.frame, sim.simx_opmode_blocking)\n",
    "        return array(position)"
   ]
  },
  {
   "cell_type": "code",
   "execution_count": 15,
   "metadata": {},
   "outputs": [],
   "source": [
    "def move(name, init_velocity):\n",
    "    # Joint name in coppelia\n",
    "    motor_names = ['Omnirob_FLwheel_motor', 'Omnirob_FRwheel_motor', 'Omnirob_RRwheel_motor', 'Omnirob_RLwheel_motor']\n",
    "    r = robot('Omnirob', motor_names)  # Create an instance of our robot\n",
    "\n",
    "    # Initial locations\n",
    "    robot_position = r.get_position()\n",
    "#     print('Robot position: (%.2f, %.2f) '%(robot_position[0], robot_position[1]))\n",
    "\n",
    "    desired_position = r.get_object_position(name)\n",
    "    # print('Desired position: (%.2f, %.2f) '%(desired_position[0], desired_position[1]))\n",
    "\n",
    "    # relative_position = r.get_object_relative_position('Sphere1')\n",
    "    # print('Relative position: (%.2f, %.2f) '%(relative_position[0], relative_position[1]))\n",
    "\n",
    "#     desired_position = [10.00, -7.00, 0]\n",
    "\n",
    "    # Virtual disk\n",
    "    disk = robot('Disc', client_id=r.client_id)\n",
    "\n",
    "\n",
    "    # Time duration\n",
    "    tf = 10\n",
    "    # Time interval\n",
    "    time_steps = linspace(0, tf, 500)\n",
    "\n",
    "    a0 = robot_position\n",
    "#     a1 = [1, -1, 0]\n",
    "    a1 = init_velocity\n",
    "    a2 = (np.dot(3,desired_position)-3*robot_position-np.dot(a1,2*tf))/tf**2\n",
    "    a3 = (2*robot_position+np.dot(a1,tf)-np.dot(2,desired_position))/tf**3\n",
    "\n",
    "    for t in time_steps:\n",
    "        point_traj = a0 + np.dot(a1,t) + np.dot(a2,t*t) + np.dot(a3,t*t*t)\n",
    "        vel_traj = a1 + 2*a2*t + 3*a3*t*t\n",
    "#         print(point_traj)\n",
    "\n",
    "        disk.set_position(point_traj)\n",
    "\n",
    "\n",
    "        # Sensing\n",
    "        robot_position = r.get_position()\n",
    "\n",
    "\n",
    "        # Trajectory tracker\n",
    "        u = 10 * (point_traj - robot_position) + vel_traj\n",
    "\n",
    "        vx, vy, vz = u\n",
    "        r.send_motor_velocities([-vy - vx, vy - vx, vy + vx, -vy + vx])\n",
    "\n",
    "\n",
    "\n",
    "        time.sleep(tf/500)\n",
    "\n",
    "    r.send_motor_velocities([0, 0, 0, 0])\n",
    "\n",
    "    r.close_connection() "
   ]
  },
  {
   "cell_type": "code",
   "execution_count": 36,
   "metadata": {},
   "outputs": [],
   "source": [
    "def move_to_position(desired_position, init_velocity):\n",
    "    # Joint name in coppelia\n",
    "    motor_names = ['Omnirob_FLwheel_motor', 'Omnirob_FRwheel_motor', 'Omnirob_RRwheel_motor', 'Omnirob_RLwheel_motor']\n",
    "    r = robot('Omnirob', motor_names)  # Create an instance of our robot\n",
    "\n",
    "    # Initial locations\n",
    "    robot_position = r.get_position()\n",
    "#     print('Robot position: (%.2f, %.2f) '%(robot_position[0], robot_position[1]))\n",
    "\n",
    "    # desired_position = r.get_object_position('Sphere1')\n",
    "    # print('Desired position: (%.2f, %.2f) '%(desired_position[0], desired_position[1]))\n",
    "\n",
    "    # relative_position = r.get_object_relative_position('Sphere1')\n",
    "    # print('Relative position: (%.2f, %.2f) '%(relative_position[0], relative_position[1]))\n",
    "\n",
    "#     desired_position = [10.00, -7.00, 0]\n",
    "\n",
    "    # Virtual disk\n",
    "    disk = robot('Disc', client_id=r.client_id)\n",
    "\n",
    "\n",
    "    # Time duration\n",
    "    tf = 10\n",
    "    # Time interval\n",
    "    time_steps = linspace(0, tf, 500)\n",
    "\n",
    "    a0 = robot_position\n",
    "#     a1 = [1, -1, 0]\n",
    "    a1 = init_velocity\n",
    "    a2 = (np.dot(3,desired_position)-3*robot_position-np.dot(a1,2*tf))/tf**2\n",
    "    a3 = (2*robot_position+np.dot(a1,tf)-np.dot(2,desired_position))/tf**3\n",
    "\n",
    "    for t in time_steps:\n",
    "        point_traj = a0 + np.dot(a1,t) + np.dot(a2,t*t) + np.dot(a3,t*t*t)\n",
    "        vel_traj = a1 + 2*a2*t + 3*a3*t*t\n",
    "#         print(point_traj)\n",
    "\n",
    "        disk.set_position(point_traj)\n",
    "\n",
    "\n",
    "        # Sensing\n",
    "        robot_position = r.get_position()\n",
    "\n",
    "\n",
    "        # Trajectory tracker\n",
    "        u = 10 * (point_traj - robot_position) + vel_traj\n",
    "\n",
    "        vx, vy, vz = u\n",
    "        r.send_motor_velocities([-vy - vx, vy - vx, vy + vx, -vy + vx])\n",
    "\n",
    "\n",
    "\n",
    "        time.sleep(tf/500)\n",
    "\n",
    "    r.send_motor_velocities([0, 0, 0, 0])\n",
    "\n",
    "    r.close_connection() "
   ]
  },
  {
   "cell_type": "code",
   "execution_count": 87,
   "metadata": {},
   "outputs": [
    {
     "name": "stdout",
     "output_type": "stream",
     "text": [
      "Robot connected\n",
      "Robot connected\n",
      "Connection closed\n"
     ]
    }
   ],
   "source": [
    "move('Sphere1',(-1,0.5,0))\n",
    "\n"
   ]
  },
  {
   "cell_type": "code",
   "execution_count": 88,
   "metadata": {},
   "outputs": [
    {
     "name": "stdout",
     "output_type": "stream",
     "text": [
      "Robot connected\n",
      "Robot connected\n",
      "Connection closed\n"
     ]
    }
   ],
   "source": [
    "move('Sphere',(2.5,0,0))"
   ]
  },
  {
   "cell_type": "code",
   "execution_count": 89,
   "metadata": {},
   "outputs": [
    {
     "name": "stdout",
     "output_type": "stream",
     "text": [
      "Robot connected\n",
      "Robot connected\n",
      "Connection closed\n"
     ]
    }
   ],
   "source": [
    "move('Sphere2',(3,0.5,0))"
   ]
  },
  {
   "cell_type": "code",
   "execution_count": 90,
   "metadata": {},
   "outputs": [
    {
     "name": "stdout",
     "output_type": "stream",
     "text": [
      "Robot connected\n",
      "Robot connected\n",
      "Connection closed\n"
     ]
    }
   ],
   "source": [
    "move('Sphere3',(-3.2,-1,0))"
   ]
  },
  {
   "cell_type": "code",
   "execution_count": 91,
   "metadata": {},
   "outputs": [
    {
     "name": "stdout",
     "output_type": "stream",
     "text": [
      "Robot connected\n",
      "Robot connected\n",
      "Connection closed\n"
     ]
    }
   ],
   "source": [
    "move('Sphere0',(-2.3,-1.1,0))"
   ]
  },
  {
   "cell_type": "code",
   "execution_count": 92,
   "metadata": {},
   "outputs": [
    {
     "name": "stdout",
     "output_type": "stream",
     "text": [
      "Robot connected\n",
      "Robot connected\n",
      "Connection closed\n"
     ]
    }
   ],
   "source": [
    "move_to_position((0, 0, 0),(-0.2,-1,0))"
   ]
  },
  {
   "cell_type": "code",
   "execution_count": 93,
   "metadata": {},
   "outputs": [
    {
     "name": "stdout",
     "output_type": "stream",
     "text": [
      "Robot connected\n",
      "Robot connected\n",
      "Connection closed\n"
     ]
    }
   ],
   "source": [
    "move_to_position((-3.5, -5, 0),(0,-1,0))"
   ]
  },
  {
   "cell_type": "code",
   "execution_count": 94,
   "metadata": {},
   "outputs": [
    {
     "name": "stdout",
     "output_type": "stream",
     "text": [
      "Robot connected\n",
      "Robot connected\n",
      "Connection closed\n"
     ]
    }
   ],
   "source": [
    "move('Sphere4',(0,-1,0))"
   ]
  },
  {
   "cell_type": "code",
   "execution_count": null,
   "metadata": {},
   "outputs": [],
   "source": []
  }
 ],
 "metadata": {
  "kernelspec": {
   "display_name": "Python 3",
   "language": "python",
   "name": "python3"
  },
  "language_info": {
   "codemirror_mode": {
    "name": "ipython",
    "version": 3
   },
   "file_extension": ".py",
   "mimetype": "text/x-python",
   "name": "python",
   "nbconvert_exporter": "python",
   "pygments_lexer": "ipython3",
   "version": "3.8.3"
  }
 },
 "nbformat": 4,
 "nbformat_minor": 4
}
